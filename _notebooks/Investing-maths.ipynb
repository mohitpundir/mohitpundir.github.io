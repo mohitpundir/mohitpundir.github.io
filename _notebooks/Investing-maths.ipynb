{
 "cells": [
  {
   "cell_type": "markdown",
   "id": "885d0acd",
   "metadata": {},
   "source": [
    "Here, I would try to understand the maths behind the investment and learn how to invest money. The way I will be tackling this problem is by reading as much as possible on the maths behind the investment and about the market terminology. "
   ]
  },
  {
   "cell_type": "markdown",
   "id": "3c6096ef",
   "metadata": {},
   "source": [
    "## Trading terminology\n",
    "[https://medium.com/fintechexplained/speaking-traders-language-14a22df720a6]"
   ]
  },
  {
   "cell_type": "markdown",
   "id": "49efa99a",
   "metadata": {},
   "source": [
    "## How to choose stocks?\n",
    "\n",
    "Invest only in buisness you understand. I like this rule. Obviously diversification is essential for investing hoever too much of diversification is also not suggested. It will just make evaluating different type of stocks difficult.  \n",
    "- Invest in buisnesses you understand (do not go for blind diversification )"
   ]
  },
  {
   "cell_type": "markdown",
   "id": "c81b9643",
   "metadata": {},
   "source": [
    "The initial idea is not build wealth but to build experience. Building of wealth can be achieved by investing in flashy high-growth stocks. However, my initial aim is to understand the market and investment. So it seems plausible to start with rock-solid established buisness\n",
    "\n",
    "- Initially invest in rock-solid established buisnesses"
   ]
  },
  {
   "cell_type": "markdown",
   "id": "9e2b8269",
   "metadata": {},
   "source": [
    "## Understanding a company's fundamentals\n",
    "\n",
    "To understand whether a company is undervalued, fair valued or overvalued !link[https://medium.com/fintechexplained/automating-stock-investing-fundamental-analysis-with-python]"
   ]
  },
  {
   "cell_type": "markdown",
   "id": "b3cf3eb9",
   "metadata": {},
   "source": [
    "If we know that a company is healthy, it is investing its income to grow itself and is launching new products, its net income is more than its costs and its management is effective, it does not have any debt and the share price is undervalued then we can feel confident that the value of the company is likely to grow and the company won’t go bankrupt anytime soon."
   ]
  },
  {
   "cell_type": "markdown",
   "id": "20d26ef2",
   "metadata": {},
   "source": [
    "Fundamental analysis is when an analyst values a stock of a company by assessing the company-level factors such as the state of its balance sheet, market capitalization, how the management of the company is, and so on.\n",
    "\n",
    "   `The fundamental analysis helps us understand what to look for in a company. The result of fundamental analysis is a set of fundamental indicators.`\n",
    "\n",
    "Therefore, the fundamental analysis uses both the intrinsic value of the stock along with the external factors to compute its value."
   ]
  },
  {
   "cell_type": "markdown",
   "id": "f01304ed",
   "metadata": {},
   "source": [
    "`The question is whether the current share price is below or above the intrinsic value. The fundamental analysis can help us understand the companies better.`"
   ]
  },
  {
   "cell_type": "code",
   "execution_count": null,
   "id": "7f64b8c1",
   "metadata": {},
   "outputs": [],
   "source": []
  }
 ],
 "metadata": {
  "kernelspec": {
   "display_name": "Python 3 (ipykernel)",
   "language": "python",
   "name": "python3"
  },
  "language_info": {
   "codemirror_mode": {
    "name": "ipython",
    "version": 3
   },
   "file_extension": ".py",
   "mimetype": "text/x-python",
   "name": "python",
   "nbconvert_exporter": "python",
   "pygments_lexer": "ipython3",
   "version": "3.7.3"
  }
 },
 "nbformat": 4,
 "nbformat_minor": 5
}
