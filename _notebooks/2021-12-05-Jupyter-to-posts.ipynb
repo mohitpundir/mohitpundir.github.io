{
 "cells": [
  {
   "cell_type": "markdown",
   "id": "083ee01f-0269-468c-ab49-5e1f0c8fd3db",
   "metadata": {},
   "source": [
    "# Jupyter notebooks to blog post "
   ]
  },
  {
   "cell_type": "code",
   "execution_count": 1,
   "id": "9a5b4858-1340-4ea9-9dc0-a1b2c8939429",
   "metadata": {},
   "outputs": [],
   "source": [
    "import numpy as np"
   ]
  },
  {
   "cell_type": "code",
   "execution_count": null,
   "id": "e0cffcf3-2fca-4f80-b0f0-13629f92a212",
   "metadata": {},
   "outputs": [],
   "source": []
  }
 ],
 "metadata": {
  "kernelspec": {
   "display_name": "Python 3 (ipykernel)",
   "language": "python",
   "name": "python3"
  },
  "language_info": {
   "codemirror_mode": {
    "name": "ipython",
    "version": 3
   },
   "file_extension": ".py",
   "mimetype": "text/x-python",
   "name": "python",
   "nbconvert_exporter": "python",
   "pygments_lexer": "ipython3",
   "version": "3.7.3"
  }
 },
 "nbformat": 4,
 "nbformat_minor": 5
}
