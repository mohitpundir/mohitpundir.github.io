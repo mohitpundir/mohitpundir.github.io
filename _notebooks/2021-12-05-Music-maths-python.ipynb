{
 "cells": [
  {
   "cell_type": "markdown",
   "id": "e55bf6f0",
   "metadata": {},
   "source": [
    "To understand the science or the maths behind the music. This post will be about the interesting facts related to music, how it can be understood in an analytical way, why we prefer certain kind of music and how to reproduce music using **maths** and a programming language `python`"
   ]
  },
  {
   "cell_type": "markdown",
   "id": "173328e6",
   "metadata": {},
   "source": [
    "I will be discussing books and papers that analyze the music in this light. So this post will also be a review about the books and papers and will be constantly updated. <br>\n",
    "\n",
    "### Basic musical terms\n",
    " \n",
    "- Pitch\n",
    "- Rhythm\n",
    "- Tempo\n",
    "- Contour\n",
    "- Timbre\n",
    "- Loudness\n",
    "- Reverberation\n",
    "\n",
    "Let us try to visualize each term mathematically on a waveform of a music"
   ]
  },
  {
   "cell_type": "code",
   "execution_count": 1,
   "id": "68efa9f2",
   "metadata": {},
   "outputs": [],
   "source": [
    "import numpy as np\n",
    "import matplotlib.pyplot as plt\n",
    "\n",
    "import matplotlib as mpl\n",
    "import matplotlib.font_manager as font_manager\n",
    "from mpl_toolkits.axes_grid1.inset_locator import inset_axes\n",
    "from matplotlib import ticker\n",
    "\n",
    "mpl.rcParams['font.family'] = 'serif'\n",
    "mpl.rcParams['font.size'] = 10\n",
    "mpl.rcParams['text.usetex'] = True\n",
    "mpl.rcParams['legend.fontsize'] = 8\n",
    "mpl.rcParams['savefig.format'] = 'png'\n",
    "\n",
    "\n",
    "mpl.rcParams['figure.dpi'] = 150\n",
    "mpl.rcParams['savefig.dpi'] = 200\n",
    "mpl.rcParams['savefig.transparent'] = True\n",
    "\n",
    "mpl.rcParams['xtick.direction'] = 'in'\n",
    "mpl.rcParams['ytick.direction'] = 'in'"
   ]
  },
  {
   "cell_type": "markdown",
   "id": "49213785",
   "metadata": {},
   "source": [
    "The very first book that piked my interest in this field is <br>\n",
    "\n",
    "### **This is your brain on music** by _Daniel Levitin_"
   ]
  },
  {
   "cell_type": "markdown",
   "id": "9d67b9cc",
   "metadata": {},
   "source": [
    "The auditory system of a fetus is is fully functional about twenty weeks after conception. A year after they are born, children are capable of recognizin music and prefer **music they were exposed to in the womb** (study by _Alexandra Lamont_, Keele University)"
   ]
  },
  {
   "cell_type": "code",
   "execution_count": null,
   "id": "f861cc04",
   "metadata": {},
   "outputs": [],
   "source": []
  }
 ],
 "metadata": {
  "kernelspec": {
   "display_name": "Python 3 (ipykernel)",
   "language": "python",
   "name": "python3"
  },
  "language_info": {
   "codemirror_mode": {
    "name": "ipython",
    "version": 3
   },
   "file_extension": ".py",
   "mimetype": "text/x-python",
   "name": "python",
   "nbconvert_exporter": "python",
   "pygments_lexer": "ipython3",
   "version": "3.7.3"
  }
 },
 "nbformat": 4,
 "nbformat_minor": 5
}
